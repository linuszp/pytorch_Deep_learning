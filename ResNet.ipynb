{
 "cells": [
  {
   "cell_type": "markdown",
   "metadata": {},
   "source": [
    "##### ResNet\n",
    "##### 拼接ResNet块\n",
    "<img src=\"https://s1.ax1x.com/2022/11/05/xObdXt.jpg\" height=60% width=60%  />\n",
    "<img src=\"https://img-blog.csdnimg.cn/img_convert/09a039c92e6a87a9d02e5973a8b368df.png\" height=70% width=70%  />\n",
    "<img src=\"https://img-blog.csdnimg.cn/ad2db8ace0b4402ab351e48fa289777e.png\" height=15% width=15%  />"
   ]
  },
  {
   "cell_type": "code",
   "execution_count": 15,
   "metadata": {},
   "outputs": [],
   "source": [
    "import torch\n",
    "import torchvision\n",
    "import torch.nn as nn\n",
    "import d2l.torch\n",
    "from torch.nn import functional as F\n",
    "class Residual(nn.Module):\n",
    "    def __init__(self,input_channels,output_channels,use_1x1conv=False,strides=1):\n",
    "        super(Residual, self).__init__()\n",
    "        self.conv1 = nn.Conv2d(input_channels,output_channels,kernel_size=3,padding=1,stride=strides)\n",
    "        self.conv2 = nn.Conv2d(in_channels=output_channels,out_channels=output_channels,kernel_size=3,padding=1)\n",
    "        if use_1x1conv:\n",
    "            self.conv3 = nn.Conv2d(in_channels=input_channels,out_channels=output_channels,kernel_size=1,stride=strides)\n",
    "        else:\n",
    "            self.conv3 = None\n",
    "        self.bn1 = nn.BatchNorm2d(output_channels)\n",
    "        self.bn2 = nn.BatchNorm2d(output_channels)\n",
    "        self.relu = nn.ReLU(inplace=True)   \n",
    "    def forward(self,x):\n",
    "        Y = F.relu(self.bn1(self.conv1(x)))\n",
    "        Y = self.bn2(self.conv2(Y))\n",
    "        if self.conv3:\n",
    "            x = self.conv3(x)\n",
    "        Y += x\n",
    "        return F.relu(Y)\n",
    "#ResNet第一个模块跟GoogleNet第一个模块相同\n",
    "b1 = nn.Sequential(nn.Conv2d(in_channels=1,out_channels=64,kernel_size=7,padding=3,stride=2),\n",
    "                    nn.BatchNorm2d(64),\n",
    "                    nn.ReLU(),\n",
    "                    nn.MaxPool2d(kernel_size=3,padding=1,stride=2))\n",
    "#定义一个ResNet块，通常包含两个残差块Residul块(也即是包含两个残差网络层)，一个ResNet块通常通道数加倍，尺寸形状高和宽减半，对应到由第一个残差块输出通道是输入通道两倍，尺寸大小减半，第二个残差块输入输出通道数相同，输入输出尺寸形状大小不变，但除开第二个ResNet块，因为第一个ResNet块将输入尺寸形状大小降低了4倍\n",
    "#第一个不减半，因为前面已经做了两次减半\n",
    "def resnet_block(input_channels,output_channels,num_residuls,first_block=False):\n",
    "    block = []\n",
    "    for i in range(num_residuls):\n",
    "        if i==0 and not first_block:\n",
    "            block.append(Residual(input_channels=input_channels,output_channels=output_channels,use_1x1conv=True,strides=2))\n",
    "        else:\n",
    "            block.append(Residual(input_channels=output_channels,output_channels=output_channels))\n",
    "    return block\n",
    "b2 = nn.Sequential(*resnet_block(64,64,2,first_block=True))\n",
    "b3 = nn.Sequential(*resnet_block(64,128,2))\n",
    "b4 = nn.Sequential(*resnet_block(128,256,2))\n",
    "b5 = nn.Sequential(*resnet_block(256,512,2))\n",
    "\n",
    "net = nn.Sequential(b1,b2,b3,b4,b5,nn.AdaptiveAvgPool2d((1,1)),\n",
    "                    nn.Flatten(),\n",
    "                    nn.Linear(in_features=512,out_features=10))"
   ]
  },
  {
   "cell_type": "code",
   "execution_count": 16,
   "metadata": {},
   "outputs": [
    {
     "name": "stdout",
     "output_type": "stream",
     "text": [
      "Sequential  output shape :\t torch.Size([1, 64, 56, 56])\n",
      "Sequential  output shape :\t torch.Size([1, 64, 56, 56])\n",
      "Sequential  output shape :\t torch.Size([1, 128, 28, 28])\n",
      "Sequential  output shape :\t torch.Size([1, 256, 14, 14])\n",
      "Sequential  output shape :\t torch.Size([1, 512, 7, 7])\n",
      "AdaptiveAvgPool2d  output shape :\t torch.Size([1, 512, 1, 1])\n",
      "Flatten  output shape :\t torch.Size([1, 512])\n",
      "Linear  output shape :\t torch.Size([1, 10])\n"
     ]
    }
   ],
   "source": [
    "#查看每一层输出的通道数和形状尺寸大小\n",
    "X = torch.randn(size=(1,1,224,224))\n",
    "for layer in net:\n",
    "    X = layer(X)\n",
    "    print(layer.__class__.__name__,\" output shape :\\t\",X.shape)"
   ]
  },
  {
   "cell_type": "code",
   "execution_count": 17,
   "metadata": {},
   "outputs": [
    {
     "name": "stdout",
     "output_type": "stream",
     "text": [
      "Downloading http://fashion-mnist.s3-website.eu-central-1.amazonaws.com/train-images-idx3-ubyte.gz\n",
      "Downloading http://fashion-mnist.s3-website.eu-central-1.amazonaws.com/train-images-idx3-ubyte.gz to ../data\\FashionMNIST\\raw\\train-images-idx3-ubyte.gz\n"
     ]
    },
    {
     "data": {
      "application/vnd.jupyter.widget-view+json": {
       "model_id": "c068627406134b56bae6670c80f26bbb",
       "version_major": 2,
       "version_minor": 0
      },
      "text/plain": [
       "  0%|          | 0/26421880 [00:00<?, ?it/s]"
      ]
     },
     "metadata": {},
     "output_type": "display_data"
    }
   ],
   "source": [
    "#训练测试\n",
    "#ResNet模型训练和测试（学习率lr = 0.05,训练轮数为10轮，batch_size为64）\n",
    "lr,num_epochs,batch_size = 0.05,10,64\n",
    "train_iter,test_iter = d2l.torch.load_data_fashion_mnist(batch_size,resize=224)\n",
    "d2l.torch.train_ch6(net,train_iter,test_iter,num_epochs,lr,device=d2l.torch.try_gpu())"
   ]
  }
 ],
 "metadata": {
  "kernelspec": {
   "display_name": "Python 3.8.13 ('yv6_env')",
   "language": "python",
   "name": "python3"
  },
  "language_info": {
   "codemirror_mode": {
    "name": "ipython",
    "version": 3
   },
   "file_extension": ".py",
   "mimetype": "text/x-python",
   "name": "python",
   "nbconvert_exporter": "python",
   "pygments_lexer": "ipython3",
   "version": "3.8.13"
  },
  "orig_nbformat": 4,
  "vscode": {
   "interpreter": {
    "hash": "040ac636dc8b0d43601b91bc77083344db5eddc9a747facf014ede0712720a99"
   }
  }
 },
 "nbformat": 4,
 "nbformat_minor": 2
}
