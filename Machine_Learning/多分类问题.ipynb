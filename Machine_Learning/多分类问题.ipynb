{
 "cells": [
  {
   "cell_type": "markdown",
   "metadata": {},
   "source": [
    "##### 多分类问题\n",
    "- softmax分类器\n",
    "[![xgH0EQ.jpg](https://s1.ax1x.com/2022/10/23/xgH0EQ.jpg)](https://imgse.com/i/xgH0EQ)\n",
    "- 分布：输出之间具有竞争性，归一化\n"
   ]
  },
  {
   "cell_type": "code",
   "execution_count": 3,
   "metadata": {},
   "outputs": [],
   "source": [
    "import torch\n",
    "from torchvision import transforms\n",
    "from torchvision import datasets\n",
    "from torch.utils.data import DataLoader\n",
    "import torch.nn.functional as F\n",
    "import torch.optim as optim"
   ]
  },
  {
   "cell_type": "code",
   "execution_count": 4,
   "metadata": {},
   "outputs": [],
   "source": [
    "batch_size = 64\n",
    "transform = transforms.Compose([transforms.ToTensor(), # 通道转换\n",
    "                                transforms.Normalize((0.1307,),(0.3081,))]) #均值，归一化，映射到 N（0，1）\n",
    "train_dataset = datasets.MNIST(root='../dataset/mnist/', train=True, download=True, transform=transform)\n",
    "train_loader = DataLoader(train_dataset, shuffle=True, batch_size=batch_size)\n",
    "test_dataset = datasets.MNIST(root='../dataset/mnist/', train=False, download=True, transform=transform)\n",
    "test_loader = DataLoader(test_dataset, shuffle=False, batch_size=batch_size)\n"
   ]
  },
  {
   "cell_type": "code",
   "execution_count": 5,
   "metadata": {},
   "outputs": [],
   "source": [
    "#模型\n",
    "class Net(torch.nn.Module):\n",
    "    def __init__(self):                                                                                                                                        \n",
    "        super(Net, self).__init__()                                                                    \n",
    "        self.l1 = torch.nn.Linear(784, 512)\n",
    "        self.l2 = torch.nn.Linear(512, 256)\n",
    "        self.l3 = torch.nn.Linear(256, 128)\n",
    "        self.l4 = torch.nn.Linear(128, 64)                                                             \n",
    "        self.l5 = torch.nn.Linear(64, 10)\n",
    "\n",
    "    def forward(self, x):\n",
    "        x = x.view(-1, 784)  # -1其实就是自动获取mini_batch\n",
    "        x = F.relu(self.l1(x))\n",
    "        x = F.relu(self.l2(x))\n",
    "        x = F.relu(self.l3(x))\n",
    "        x = F.relu(self.l4(x))\n",
    "        return self.l5(x)  # 最后一层不做激活，不进行非线性变换\n",
    "\n",
    "model = Net()\n",
    "#损失，优化器\n",
    "criterion = torch.nn.CrossEntropyLoss()\n",
    "optimizer = optim.SGD(model.parameters(),lr=0.01,momentum=0.5)"
   ]
  },
  {
   "cell_type": "code",
   "execution_count": 6,
   "metadata": {},
   "outputs": [],
   "source": [
    "#训练\n",
    "def train(epoch):\n",
    "    running_loss = 0.0\n",
    "    for batch_idx, data in enumerate(train_loader, 0):\n",
    "        # 获得一个批次的数据和标签\n",
    "        inputs, target = data\n",
    "        optimizer.zero_grad()\n",
    "        # 获得模型预测结果(64, 10)\n",
    "        outputs = model(inputs)\n",
    "        # 交叉熵代价函数outputs(64,10),target（64）\n",
    "        loss = criterion(outputs, target)\n",
    "        loss.backward()\n",
    "        optimizer.step()\n",
    "\n",
    "        running_loss += loss.item()\n",
    "        if batch_idx % 300 == 299:\n",
    "            print('[%d, %5d] loss: %.3f' % (epoch+1, batch_idx+1, running_loss/300))\n",
    "            running_loss = 0.0"
   ]
  },
  {
   "cell_type": "code",
   "execution_count": 7,
   "metadata": {},
   "outputs": [
    {
     "name": "stdout",
     "output_type": "stream",
     "text": [
      "[1,   300] loss: 2.146\n",
      "[1,   600] loss: 0.752\n",
      "[1,   900] loss: 0.408\n",
      "accuracy on test set: 90 % \n",
      "[2,   300] loss: 0.297\n",
      "[2,   600] loss: 0.258\n",
      "[2,   900] loss: 0.221\n",
      "accuracy on test set: 94 % \n",
      "[3,   300] loss: 0.182\n",
      "[3,   600] loss: 0.166\n",
      "[3,   900] loss: 0.152\n",
      "accuracy on test set: 95 % \n",
      "[4,   300] loss: 0.126\n",
      "[4,   600] loss: 0.126\n",
      "[4,   900] loss: 0.119\n",
      "accuracy on test set: 96 % \n",
      "[5,   300] loss: 0.095\n",
      "[5,   600] loss: 0.095\n",
      "[5,   900] loss: 0.102\n",
      "accuracy on test set: 96 % \n",
      "[6,   300] loss: 0.074\n",
      "[6,   600] loss: 0.080\n",
      "[6,   900] loss: 0.077\n",
      "accuracy on test set: 97 % \n",
      "[7,   300] loss: 0.062\n",
      "[7,   600] loss: 0.064\n",
      "[7,   900] loss: 0.063\n",
      "accuracy on test set: 97 % \n",
      "[8,   300] loss: 0.050\n",
      "[8,   600] loss: 0.053\n",
      "[8,   900] loss: 0.047\n",
      "accuracy on test set: 97 % \n",
      "[9,   300] loss: 0.041\n",
      "[9,   600] loss: 0.043\n",
      "[9,   900] loss: 0.042\n",
      "accuracy on test set: 97 % \n",
      "[10,   300] loss: 0.030\n",
      "[10,   600] loss: 0.030\n",
      "[10,   900] loss: 0.038\n",
      "accuracy on test set: 97 % \n"
     ]
    }
   ],
   "source": [
    "def test():\n",
    "    correct = 0\n",
    "    total = 0\n",
    "    with torch.no_grad():\n",
    "        for data in test_loader:\n",
    "            images, labels = data\n",
    "            outputs = model(images)\n",
    "            _, predicted = torch.max(outputs.data, dim=1) # dim = 1 列是第0个维度，行是第1个维度\n",
    "            total += labels.size(0)\n",
    "            correct += (predicted == labels).sum().item() # 张量之间的比较运算\n",
    "    print('accuracy on test set: %d %% ' % (100*correct/total))\n",
    "\n",
    "if __name__ == '__main__':\n",
    "    for epoch in range(10):\n",
    "        train(epoch)\n",
    "        test()"
   ]
  },
  {
   "cell_type": "markdown",
   "metadata": {},
   "source": [
    "#####  人工特征提取:傅里叶，小波变换\n",
    "##### 自动特征提取： CNN"
   ]
  }
 ],
 "metadata": {
  "kernelspec": {
   "display_name": "Python 3.8.13 ('yv6_env')",
   "language": "python",
   "name": "python3"
  },
  "language_info": {
   "codemirror_mode": {
    "name": "ipython",
    "version": 3
   },
   "file_extension": ".py",
   "mimetype": "text/x-python",
   "name": "python",
   "nbconvert_exporter": "python",
   "pygments_lexer": "ipython3",
   "version": "3.8.13"
  },
  "orig_nbformat": 4,
  "vscode": {
   "interpreter": {
    "hash": "040ac636dc8b0d43601b91bc77083344db5eddc9a747facf014ede0712720a99"
   }
  }
 },
 "nbformat": 4,
 "nbformat_minor": 2
}
